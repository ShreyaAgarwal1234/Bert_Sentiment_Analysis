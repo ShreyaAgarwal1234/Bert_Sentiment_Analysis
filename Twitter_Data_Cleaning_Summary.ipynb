{
 "cells": [
  {
   "cell_type": "markdown",
   "id": "b861814d",
   "metadata": {},
   "source": [
    "# 🧹 Twitter Sentiment Data Cleaning & Summary\n",
    "This notebook loads, cleans, and summarizes the `twitter_training.csv` dataset."
   ]
  },
  {
   "cell_type": "code",
   "execution_count": null,
   "id": "fc0a5366",
   "metadata": {},
   "outputs": [],
   "source": [
    "# 📦 Install (if running in Colab or a fresh environment)\n",
    "# !pip install pandas"
   ]
  },
  {
   "cell_type": "code",
   "execution_count": null,
   "id": "8f7fe8cf",
   "metadata": {},
   "outputs": [],
   "source": [
    "# 📚 Import libraries\n",
    "import pandas as pd"
   ]
  },
  {
   "cell_type": "code",
   "execution_count": null,
   "id": "ee445893",
   "metadata": {},
   "outputs": [],
   "source": [
    "# 📁 Load dataset\n",
    "df = pd.read_csv('twitter_training.csv', header=None)\n",
    "df = df[[3, 2]].rename(columns={3: \"text\", 2: \"label\"})"
   ]
  },
  {
   "cell_type": "code",
   "execution_count": null,
   "id": "4c6f398d",
   "metadata": {},
   "outputs": [],
   "source": [
    "# 🧼 Clean the dataset\n",
    "df = df.dropna(subset=[\"text\", \"label\"])\n",
    "df[\"text\"] = df[\"text\"].astype(str)\n",
    "df.head()"
   ]
  },
  {
   "cell_type": "code",
   "execution_count": null,
   "id": "dceb19df",
   "metadata": {},
   "outputs": [],
   "source": [
    "# 📊 Summary statistics\n",
    "df_summary = {\n",
    "    \"Total Records\": len(df),\n",
    "    \"Unique Labels\": df[\"label\"].nunique(),\n",
    "    \"Label Distribution\": df[\"label\"].value_counts().to_dict()\n",
    "}\n",
    "df_summary"
   ]
  }
 ],
 "metadata": {
  "kernelspec": {
   "display_name": "Python 3",
   "name": "python3"
  }
 },
 "nbformat": 4,
 "nbformat_minor": 5
}
